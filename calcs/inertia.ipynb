{
 "cells": [
  {
   "cell_type": "code",
   "execution_count": 1,
   "id": "0aad906b-d02f-4607-9d57-bc35038321ce",
   "metadata": {},
   "outputs": [],
   "source": [
    "using LinearAlgebra"
   ]
  },
  {
   "cell_type": "code",
   "execution_count": 29,
   "id": "8b8b3762-9b5c-491c-88fc-790435ec911e",
   "metadata": {},
   "outputs": [
    {
     "data": {
      "text/plain": [
       "44.8"
      ]
     },
     "execution_count": 29,
     "metadata": {},
     "output_type": "execute_result"
    }
   ],
   "source": [
    "m_thick_cell = 4.6\n",
    "m_thin_cell = 2.8\n",
    "cells_per_door = 16\n",
    "n_deployables = 2\n",
    "m_double_sided_thick_cell = cells_per_door * m_thick_cell * 2\n",
    "m_single_sided_thin_cell = cells_per_door * m_thin_cell"
   ]
  },
  {
   "cell_type": "code",
   "execution_count": 30,
   "id": "d3cdb059-044d-48fa-923e-d08e58f836e1",
   "metadata": {},
   "outputs": [
    {
     "data": {
      "text/plain": [
       "215"
      ]
     },
     "execution_count": 30,
     "metadata": {},
     "output_type": "execute_result"
    }
   ],
   "source": [
    "# single rectangle assumption, and assume axial alignment\n",
    "door_x = 235\n",
    "door_y = 5 \n",
    "door_z = 215"
   ]
  },
  {
   "cell_type": "code",
   "execution_count": 31,
   "id": "c07715b7-a5cb-4574-bf29-a740d4269215",
   "metadata": {},
   "outputs": [],
   "source": [
    "I_double_sided_thick_cell_about_moi = [\n",
    "    1/12 * m_double_sided_thick_cell * (door_y^2 + door_z^2),\n",
    "    1/12 * m_double_sided_thick_cell * (door_x^2 + door_z^2),\n",
    "    1/12 * m_double_sided_thick_cell * (door_x^2 + door_y^2),\n",
    "];\n",
    "I_single_sided_thin_cell_about_moi = [\n",
    "    1/12 * m_single_sided_thin_cell * (door_y^2 + door_z^2),\n",
    "    1/12 * m_single_sided_thin_cell * (door_x^2 + door_z^2),\n",
    "    1/12 * m_single_sided_thin_cell * (door_x^2 + door_y^2),\n",
    "];"
   ]
  },
  {
   "cell_type": "code",
   "execution_count": 32,
   "id": "d01a15cd-6dc1-410f-8dd9-67b02156389b",
   "metadata": {},
   "outputs": [
    {
     "data": {
      "text/plain": [
       "3-element Vector{Float64}:\n",
       " 3.804e7\n",
       " 3.878e7\n",
       " 9.326e6"
      ]
     },
     "execution_count": 32,
     "metadata": {},
     "output_type": "execute_result"
    }
   ],
   "source": [
    "I_sat = [\n",
    "    3.804e7,\n",
    "    3.878e7,\n",
    "    9.326e6\n",
    "]"
   ]
  },
  {
   "cell_type": "code",
   "execution_count": 33,
   "id": "237b4383-66e9-4664-bf4b-def6962333c9",
   "metadata": {},
   "outputs": [
    {
     "data": {
      "text/plain": [
       "70.71067811865476"
      ]
     },
     "execution_count": 33,
     "metadata": {},
     "output_type": "execute_result"
    }
   ],
   "source": [
    "distance = sqrt(50^2 + 50^2)"
   ]
  },
  {
   "cell_type": "code",
   "execution_count": 34,
   "id": "c4e15152-cf0a-4ec8-bdff-f573796653a6",
   "metadata": {},
   "outputs": [],
   "source": [
    "I_double_sided_thick_cell = I_double_sided_thick_cell_about_moi .+ distance^2 * m_double_sided_thick_cell;\n",
    "I_single_sided_thin_cell = I_single_sided_thin_cell_about_moi .+ distance^2 * m_single_sided_thin_cell;"
   ]
  },
  {
   "cell_type": "code",
   "execution_count": 35,
   "id": "b82e3b1b-d3d7-4cac-9dc7-ad0be5b52000",
   "metadata": {},
   "outputs": [
    {
     "data": {
      "text/plain": [
       "3-element Vector{Float64}:\n",
       " 3.285714285714286\n",
       " 3.2857142857142856\n",
       " 3.285714285714286"
      ]
     },
     "execution_count": 35,
     "metadata": {},
     "output_type": "execute_result"
    }
   ],
   "source": [
    "I_double_sided_thick_cell ./I_single_sided_thin_cell"
   ]
  },
  {
   "cell_type": "code",
   "execution_count": 36,
   "id": "d3652649-af47-4cfe-82e5-7010a2c57407",
   "metadata": {},
   "outputs": [
    {
     "data": {
      "text/plain": [
       "3-element Vector{Float64}:\n",
       " 396666.6666666666\n",
       " 602746.6666666666\n",
       " 430266.6666666666"
      ]
     },
     "execution_count": 36,
     "metadata": {},
     "output_type": "execute_result"
    }
   ],
   "source": [
    "I_single_sided_thin_cell"
   ]
  },
  {
   "cell_type": "code",
   "execution_count": 37,
   "id": "28f6d6ad-e923-4d9a-8f3c-3d11bb44de19",
   "metadata": {},
   "outputs": [
    {
     "data": {
      "text/plain": [
       "3-element Vector{Float64}:\n",
       " 793333.3333333333\n",
       "      1.2054933333333333e6\n",
       " 860533.3333333333"
      ]
     },
     "execution_count": 37,
     "metadata": {},
     "output_type": "execute_result"
    }
   ],
   "source": [
    "I_delta_double_sided_thick_cell = I_double_sided_thick_cell * 2\n",
    "I_delta_single_sided_thin_cell = I_single_sided_thin_cell * 2"
   ]
  },
  {
   "cell_type": "code",
   "execution_count": 38,
   "id": "13816408-7b82-4b9d-b473-a16c5d56e813",
   "metadata": {},
   "outputs": [
    {
     "data": {
      "text/plain": [
       "3-element Vector{Float64}:\n",
       " 0.06852436032246757\n",
       " 0.10213787175520027\n",
       " 0.30318107084137536"
      ]
     },
     "execution_count": 38,
     "metadata": {},
     "output_type": "execute_result"
    }
   ],
   "source": [
    "I_delta_double_sided_thick_cell ./I_sat"
   ]
  },
  {
   "cell_type": "code",
   "execution_count": 39,
   "id": "995a560b-2414-4503-a77c-4305d062d30d",
   "metadata": {},
   "outputs": [
    {
     "data": {
      "text/plain": [
       "3-element Vector{Float64}:\n",
       " 0.020855240098142304\n",
       " 0.03108543922984356\n",
       " 0.09227249982128814"
      ]
     },
     "execution_count": 39,
     "metadata": {},
     "output_type": "execute_result"
    }
   ],
   "source": [
    "I_delta_single_sided_thin_cell ./I_sat"
   ]
  },
  {
   "cell_type": "code",
   "execution_count": null,
   "id": "c2728027-151d-4bda-ab51-0152dd57d5ba",
   "metadata": {},
   "outputs": [],
   "source": []
  },
  {
   "cell_type": "code",
   "execution_count": null,
   "id": "e6c9595c-8976-4f34-b4d4-76efe071e5f7",
   "metadata": {},
   "outputs": [],
   "source": []
  }
 ],
 "metadata": {
  "kernelspec": {
   "display_name": "Julia 1.9.3",
   "language": "julia",
   "name": "julia-1.9"
  },
  "language_info": {
   "file_extension": ".jl",
   "mimetype": "application/julia",
   "name": "julia",
   "version": "1.9.3"
  }
 },
 "nbformat": 4,
 "nbformat_minor": 5
}
