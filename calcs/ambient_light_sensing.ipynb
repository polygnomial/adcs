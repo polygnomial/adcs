{
 "cells": [
  {
   "cell_type": "code",
   "execution_count": 2,
   "id": "83515456-9c57-40c9-9f75-9d304ba4e3f8",
   "metadata": {},
   "outputs": [],
   "source": [
    "using LinearAlgebra\n",
    "using CSV\n",
    "using DataFrames"
   ]
  },
  {
   "cell_type": "code",
   "execution_count": 3,
   "id": "8a81cb97-046d-47c8-b80a-18662f54c893",
   "metadata": {},
   "outputs": [],
   "source": [
    "# OPT3001"
   ]
  },
  {
   "cell_type": "code",
   "execution_count": 4,
   "id": "ac1dcef7-ab5d-4af8-97fa-7f8a282d618d",
   "metadata": {},
   "outputs": [
    {
     "data": {
      "text/plain": [
       "20.48"
      ]
     },
     "execution_count": 4,
     "metadata": {},
     "output_type": "execute_result"
    }
   ],
   "source": [
    "opt3001_full_scale = 83865.60\n",
    "range = 20.48"
   ]
  },
  {
   "cell_type": "markdown",
   "id": "db2f3713-baee-44d0-ae4d-4d730fb31807",
   "metadata": {},
   "source": [
    "## Notes\n",
    "\n",
    "- normalized response csv generated with https://automeris.io/WebPlotDigitizer/\n",
    "\n",
    "- Is it better to put all ambient light sensors at the same range?"
   ]
  },
  {
   "cell_type": "code",
   "execution_count": 5,
   "id": "5843af3a-8fbf-4320-966a-8c1c4f9bc0d2",
   "metadata": {},
   "outputs": [
    {
     "data": {
      "text/plain": [
       "1360.8"
      ]
     },
     "execution_count": 5,
     "metadata": {},
     "output_type": "execute_result"
    }
   ],
   "source": [
    "solar_flux = 1.3608e3 # W/m , dispersion is 0.5 W/m"
   ]
  },
  {
   "cell_type": "code",
   "execution_count": 6,
   "id": "848112f2-6625-4a6e-a180-a110cd876008",
   "metadata": {},
   "outputs": [
    {
     "data": {
      "text/plain": [
       "98"
      ]
     },
     "execution_count": 6,
     "metadata": {},
     "output_type": "execute_result"
    }
   ],
   "source": [
    "flux2lux_LEO = 98 # lux, 1 W/m² = 98 lux"
   ]
  },
  {
   "cell_type": "code",
   "execution_count": 7,
   "id": "5ceb1081-ba00-4551-a05d-9530ee0ee2ef",
   "metadata": {},
   "outputs": [
    {
     "data": {
      "text/plain": [
       "133358.4"
      ]
     },
     "execution_count": 7,
     "metadata": {},
     "output_type": "execute_result"
    }
   ],
   "source": [
    "solar_lux = solar_flux * flux2lux_LEO"
   ]
  },
  {
   "cell_type": "code",
   "execution_count": 22,
   "id": "a93f6547-7a8c-486b-829f-85e9b47b4f6c",
   "metadata": {},
   "outputs": [
    {
     "data": {
      "text/plain": [
       "38.967080248602"
      ]
     },
     "execution_count": 22,
     "metadata": {},
     "output_type": "execute_result"
    }
   ],
   "source": [
    "rad2deg(asin(opt3001_full_scale / solar_lux))\n",
    "# this may differ with different wavelength, etc."
   ]
  },
  {
   "cell_type": "code",
   "execution_count": 8,
   "id": "59f15a50-8abc-4c79-8cc1-e7a7321fad5b",
   "metadata": {},
   "outputs": [],
   "source": [
    "df = CSV.read(\"normalized_response.csv\", DataFrame);\n",
    "angle = df[!,\"angle\"];\n",
    "response = df[!,\"normalized_response\"];\n",
    "arr = [angle, response]\n",
    "arr = mapreduce(permutedims, vcat, arr)';"
   ]
  },
  {
   "cell_type": "code",
   "execution_count": 9,
   "id": "aab0c945-805e-44ff-8fda-752b2267b8bd",
   "metadata": {},
   "outputs": [
    {
     "data": {
      "text/plain": [
       "true"
      ]
     },
     "execution_count": 9,
     "metadata": {},
     "output_type": "execute_result"
    }
   ],
   "source": [
    "# make sure all entries are greater than zero\n",
    "all(arr[:,2] .> 0)"
   ]
  },
  {
   "cell_type": "code",
   "execution_count": 10,
   "id": "f0077ffe-e613-41ab-a153-457496addeda",
   "metadata": {},
   "outputs": [
    {
     "data": {
      "text/plain": [
       "false"
      ]
     },
     "execution_count": 10,
     "metadata": {},
     "output_type": "execute_result"
    }
   ],
   "source": [
    "# make sure all entries are greater than zero\n",
    "all(arr .< 1)"
   ]
  },
  {
   "cell_type": "code",
   "execution_count": 11,
   "id": "c669ecdc-f4b8-4366-8f5c-27fde8365861",
   "metadata": {},
   "outputs": [],
   "source": [
    "arr[:,2] .= min.(arr[:,2], 1);"
   ]
  },
  {
   "cell_type": "code",
   "execution_count": 12,
   "id": "50017473-0c0c-4b9e-86ac-5b9f559d2d1a",
   "metadata": {},
   "outputs": [],
   "source": [
    "arr[:,2] * solar_lux;"
   ]
  },
  {
   "cell_type": "code",
   "execution_count": 13,
   "id": "b6b13dac-ff1e-48b2-9fae-45503d825a70",
   "metadata": {},
   "outputs": [
    {
     "data": {
      "text/plain": [
       "-38.87289101434828"
      ]
     },
     "execution_count": 13,
     "metadata": {},
     "output_type": "execute_result"
    }
   ],
   "source": [
    "sat_angle_ind = findfirst(arr[:,2] * solar_lux .> opt3001_full_scale);\n",
    "sat_angle = arr[sat_angle_ind, 1]"
   ]
  },
  {
   "cell_type": "code",
   "execution_count": 14,
   "id": "d915ab95-3899-4529-bc78-b5ff691ffaa0",
   "metadata": {},
   "outputs": [
    {
     "data": {
      "text/plain": [
       "96"
      ]
     },
     "execution_count": 14,
     "metadata": {},
     "output_type": "execute_result"
    }
   ],
   "source": [
    "findlast(arr[:,2] * solar_lux .> opt3001_full_scale)"
   ]
  },
  {
   "cell_type": "code",
   "execution_count": 15,
   "id": "cf6175fe-83db-4d9c-ae59-9f5f42c4ac58",
   "metadata": {},
   "outputs": [
    {
     "data": {
      "text/plain": [
       "1.0471975511965976"
      ]
     },
     "execution_count": 15,
     "metadata": {},
     "output_type": "execute_result"
    }
   ],
   "source": [
    "## OSRAM SFH-2430\n",
    "sfh_2430_current_per_lux_typical = 6.3  * 1e-9 # A/lx typical\n",
    "sfh_2430_current_per_lux_min = 5 * 1e-9 # A/lx min\n",
    "sfh_2430_half_angle = deg2rad(60) # degrees"
   ]
  },
  {
   "cell_type": "code",
   "execution_count": 16,
   "id": "02bc3209-50fe-490b-b0a4-b3eac2829a8b",
   "metadata": {},
   "outputs": [
    {
     "data": {
      "text/plain": [
       "0.00084015792"
      ]
     },
     "execution_count": 16,
     "metadata": {},
     "output_type": "execute_result"
    }
   ],
   "source": [
    "max_curr_typical = sfh_2430_current_per_lux_typical * solar_lux"
   ]
  },
  {
   "cell_type": "code",
   "execution_count": 17,
   "id": "18e2aed7-dcbe-4b36-97ec-9914a9b302b8",
   "metadata": {},
   "outputs": [
    {
     "data": {
      "text/plain": [
       "3927.8329959681864"
      ]
     },
     "execution_count": 17,
     "metadata": {},
     "output_type": "execute_result"
    }
   ],
   "source": [
    "3.3 / max_curr_typical"
   ]
  },
  {
   "cell_type": "code",
   "execution_count": 18,
   "id": "9a764611-6454-4baa-92ac-f7b80d7316b3",
   "metadata": {},
   "outputs": [
    {
     "data": {
      "text/plain": [
       "0.000666792"
      ]
     },
     "execution_count": 18,
     "metadata": {},
     "output_type": "execute_result"
    }
   ],
   "source": [
    "max_curr_min = sfh_2430_current_per_lux_min * solar_lux"
   ]
  },
  {
   "cell_type": "code",
   "execution_count": 23,
   "id": "e1aa6fdc-8b89-4938-adfb-e0dcfba0a7a3",
   "metadata": {},
   "outputs": [
    {
     "data": {
      "text/plain": [
       "4949.069574919915"
      ]
     },
     "execution_count": 23,
     "metadata": {},
     "output_type": "execute_result"
    }
   ],
   "source": [
    "3.3 / max_curr_min"
   ]
  },
  {
   "cell_type": "code",
   "execution_count": null,
   "id": "1c313e94-7f7d-472c-8467-c0271be85a76",
   "metadata": {},
   "outputs": [],
   "source": []
  }
 ],
 "metadata": {
  "kernelspec": {
   "display_name": "Julia 1.9.3",
   "language": "julia",
   "name": "julia-1.9"
  },
  "language_info": {
   "file_extension": ".jl",
   "mimetype": "application/julia",
   "name": "julia",
   "version": "1.9.3"
  }
 },
 "nbformat": 4,
 "nbformat_minor": 5
}
