{
 "cells": [
  {
   "cell_type": "code",
   "execution_count": 14,
   "id": "83515456-9c57-40c9-9f75-9d304ba4e3f8",
   "metadata": {},
   "outputs": [],
   "source": [
    "using LinearAlgebra\n",
    "using CSV\n",
    "using DataFrames"
   ]
  },
  {
   "cell_type": "code",
   "execution_count": 2,
   "id": "8a81cb97-046d-47c8-b80a-18662f54c893",
   "metadata": {},
   "outputs": [],
   "source": [
    "# OPT3001"
   ]
  },
  {
   "cell_type": "code",
   "execution_count": 3,
   "id": "ac1dcef7-ab5d-4af8-97fa-7f8a282d618d",
   "metadata": {},
   "outputs": [
    {
     "data": {
      "text/plain": [
       "83865.6"
      ]
     },
     "execution_count": 3,
     "metadata": {},
     "output_type": "execute_result"
    }
   ],
   "source": [
    "opt3001_full_scale = 83865.60\n",
    "range = 20.48"
   ]
  },
  {
   "cell_type": "markdown",
   "id": "db2f3713-baee-44d0-ae4d-4d730fb31807",
   "metadata": {},
   "source": [
    "## Notes\n",
    "\n",
    "- normalized response csv generated with https://automeris.io/WebPlotDigitizer/\n",
    "\n",
    "- Is it better to put all ambient light sensors at the same range?"
   ]
  },
  {
   "cell_type": "code",
   "execution_count": 9,
   "id": "5843af3a-8fbf-4320-966a-8c1c4f9bc0d2",
   "metadata": {},
   "outputs": [
    {
     "data": {
      "text/plain": [
       "1360.8"
      ]
     },
     "execution_count": 9,
     "metadata": {},
     "output_type": "execute_result"
    }
   ],
   "source": [
    "solar_flux = 1.3608e3 # W/m , dispersion is 0.5 W/m"
   ]
  },
  {
   "cell_type": "code",
   "execution_count": 10,
   "id": "848112f2-6625-4a6e-a180-a110cd876008",
   "metadata": {},
   "outputs": [
    {
     "data": {
      "text/plain": [
       "98"
      ]
     },
     "execution_count": 10,
     "metadata": {},
     "output_type": "execute_result"
    }
   ],
   "source": [
    "flux2lux_LEO = 98 # lux, 1 W/m² = 98 lux"
   ]
  },
  {
   "cell_type": "code",
   "execution_count": 7,
   "id": "5ceb1081-ba00-4551-a05d-9530ee0ee2ef",
   "metadata": {},
   "outputs": [
    {
     "data": {
      "text/plain": [
       "133358.4"
      ]
     },
     "execution_count": 7,
     "metadata": {},
     "output_type": "execute_result"
    }
   ],
   "source": [
    "solar_lux = solar_flux * flux2lux_LEO"
   ]
  },
  {
   "cell_type": "code",
   "execution_count": 87,
   "id": "59f15a50-8abc-4c79-8cc1-e7a7321fad5b",
   "metadata": {},
   "outputs": [],
   "source": [
    "df = CSV.read(\"normalized_response.csv\", DataFrame);\n",
    "angle = df[!,\"angle\"];\n",
    "response = df[!,\"normalized_response\"];\n",
    "arr = [angle, response]\n",
    "arr = mapreduce(permutedims, vcat, arr)';"
   ]
  },
  {
   "cell_type": "code",
   "execution_count": 88,
   "id": "aab0c945-805e-44ff-8fda-752b2267b8bd",
   "metadata": {},
   "outputs": [
    {
     "data": {
      "text/plain": [
       "true"
      ]
     },
     "execution_count": 88,
     "metadata": {},
     "output_type": "execute_result"
    }
   ],
   "source": [
    "# make sure all entries are greater than zero\n",
    "all(arr[:,2] .> 0)"
   ]
  },
  {
   "cell_type": "code",
   "execution_count": 89,
   "id": "f0077ffe-e613-41ab-a153-457496addeda",
   "metadata": {},
   "outputs": [
    {
     "data": {
      "text/plain": [
       "false"
      ]
     },
     "execution_count": 89,
     "metadata": {},
     "output_type": "execute_result"
    }
   ],
   "source": [
    "# make sure all entries are greater than zero\n",
    "all(arr .< 1)"
   ]
  },
  {
   "cell_type": "code",
   "execution_count": 90,
   "id": "c669ecdc-f4b8-4366-8f5c-27fde8365861",
   "metadata": {},
   "outputs": [],
   "source": [
    "arr[:,2] .= min.(arr[:,2], 1);"
   ]
  },
  {
   "cell_type": "code",
   "execution_count": 91,
   "id": "50017473-0c0c-4b9e-86ac-5b9f559d2d1a",
   "metadata": {},
   "outputs": [
    {
     "data": {
      "text/plain": [
       "139-element Vector{Float64}:\n",
       "  2591.649786165673\n",
       "  4274.697766351499\n",
       "  5988.486348915141\n",
       "  7890.988073853762\n",
       "  9788.36636506274\n",
       " 11882.99685486275\n",
       " 13795.63870905793\n",
       " 15634.31098878148\n",
       " 17430.71494023553\n",
       " 19279.954302026465\n",
       " 21097.492417615253\n",
       " 22946.731779406186\n",
       " 26938.975384461104\n",
       "     ⋮\n",
       " 21116.278341290592\n",
       " 19269.387219959084\n",
       " 17536.385760909292\n",
       " 15687.146399118375\n",
       " 13880.175365596957\n",
       " 12061.463129778444\n",
       " 10182.870762244804\n",
       "  8379.422089412508\n",
       "  6622.938225768558\n",
       "  4781.917705585569\n",
       "  3383.2202973946223\n",
       "  2786.852611264871"
      ]
     },
     "execution_count": 91,
     "metadata": {},
     "output_type": "execute_result"
    }
   ],
   "source": [
    "arr[:,2] * solar_lux"
   ]
  },
  {
   "cell_type": "code",
   "execution_count": 97,
   "id": "b6b13dac-ff1e-48b2-9fae-45503d825a70",
   "metadata": {},
   "outputs": [
    {
     "data": {
      "text/plain": [
       "-38.87289101434828"
      ]
     },
     "execution_count": 97,
     "metadata": {},
     "output_type": "execute_result"
    }
   ],
   "source": [
    "sat_angle_ind = findfirst(arr[:,2] * solar_lux .> opt3001_full_scale);\n",
    "sat_angle = arr[sat_angle_ind, 1]"
   ]
  },
  {
   "cell_type": "code",
   "execution_count": 99,
   "id": "d915ab95-3899-4529-bc78-b5ff691ffaa0",
   "metadata": {},
   "outputs": [
    {
     "data": {
      "text/plain": [
       "96"
      ]
     },
     "execution_count": 99,
     "metadata": {},
     "output_type": "execute_result"
    }
   ],
   "source": [
    "findlast(arr[:,2] * solar_lux .> opt3001_full_scale)"
   ]
  },
  {
   "cell_type": "code",
   "execution_count": null,
   "id": "cf6175fe-83db-4d9c-ae59-9f5f42c4ac58",
   "metadata": {},
   "outputs": [],
   "source": []
  }
 ],
 "metadata": {
  "kernelspec": {
   "display_name": "Julia 1.9.3",
   "language": "julia",
   "name": "julia-1.9"
  },
  "language_info": {
   "file_extension": ".jl",
   "mimetype": "application/julia",
   "name": "julia",
   "version": "1.9.3"
  }
 },
 "nbformat": 4,
 "nbformat_minor": 5
}
