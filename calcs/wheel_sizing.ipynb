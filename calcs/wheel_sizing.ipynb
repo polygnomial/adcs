{
 "cells": [
  {
   "cell_type": "code",
   "execution_count": 34,
   "id": "82d10e18-0714-41b7-8bdb-066a10eb9fea",
   "metadata": {},
   "outputs": [],
   "source": [
    "using LinearAlgebra"
   ]
  },
  {
   "cell_type": "code",
   "execution_count": 1,
   "id": "34902f0e-a591-4269-933e-df089925fcc5",
   "metadata": {},
   "outputs": [
    {
     "data": {
      "text/plain": [
       "9.326e6"
      ]
     },
     "execution_count": 1,
     "metadata": {},
     "output_type": "execute_result"
    }
   ],
   "source": [
    "Ixx = 4.518e7\n",
    "Iyy = 4.592e7\n",
    "Izz = 9.326e6 # g*mm^2\n",
    "\n",
    "CG = [5, 5, 10]"
   ]
  },
  {
   "cell_type": "code",
   "execution_count": 7,
   "id": "668444b4-309f-49d5-a628-341ef0c731c3",
   "metadata": {},
   "outputs": [
    {
     "data": {
      "text/plain": [
       "1040.2162341886203"
      ]
     },
     "execution_count": 7,
     "metadata": {},
     "output_type": "execute_result"
    }
   ],
   "source": [
    "Iwheel_in = 0.69 # g*cm2\n",
    "Iwheel = Iwheel_in * 1/1000 * 1/100 * 1/100\n",
    "no_load_speed = 14900 # 1/min\n",
    "ω = no_load_speed * 1/60 * 2*pi\n",
    "ω_margin = 2/3 * ω"
   ]
  },
  {
   "cell_type": "code",
   "execution_count": 35,
   "id": "a4373d5a-6a97-4c02-a825-52ecb5eb93a3",
   "metadata": {},
   "outputs": [
    {
     "data": {
      "text/plain": [
       "3-element Vector{Float64}:\n",
       " 0.04518\n",
       " 0.04592\n",
       " 0.009326000000000001"
      ]
     },
     "execution_count": 35,
     "metadata": {},
     "output_type": "execute_result"
    }
   ],
   "source": [
    "Isat = [Ixx, Iyy, Izz] * 1/1000 * 1/1000 * 1/1000 # kg*m^2"
   ]
  },
  {
   "cell_type": "code",
   "execution_count": 63,
   "id": "393d5f00-afc8-48c0-a234-5082c3d464d3",
   "metadata": {},
   "outputs": [
    {
     "data": {
      "text/plain": [
       "axis_angle_rotation (generic function with 1 method)"
      ]
     },
     "execution_count": 63,
     "metadata": {},
     "output_type": "execute_result"
    }
   ],
   "source": [
    "β = deg2rad(60)\n",
    "wheel_positions = [\n",
    "    7.5 7.5 10;\n",
    "    2.5 7.5 10;\n",
    "    2.5 2.5 10; \n",
    "    7.5 2.5 10;\n",
    "]\n",
    "\n",
    "wheel_orientations_init = [\n",
    "    1 0 0;\n",
    "    0 1 0;\n",
    "    -1 0 0;\n",
    "    0 -1 0;\n",
    "]\n",
    "\n",
    "# this is an active DCM that rotates 90 degrees CCW about the Z axis\n",
    "dcm_init2βaxis = [\n",
    "    0 1 0;\n",
    "    -1 0 0;\n",
    "    0 0 1;\n",
    "]\n",
    "\n",
    "n_wheels, _ = size(wheel_orientations_init)\n",
    "function axis_angle_rotation(vec, axis, angle)\n",
    "    return cos(angle)*vec + sin(angle)*cross(axis, vec) + (1-cos(angle))*dot(vec, axis)*axis\n",
    "end"
   ]
  },
  {
   "cell_type": "code",
   "execution_count": 73,
   "id": "5c246388-0ca8-4cf7-8246-abbf6b9c10e4",
   "metadata": {},
   "outputs": [],
   "source": [
    "wheel_orientations = zeros(n_wheels, 3)\n",
    "for i in 1:n_wheels\n",
    "    wheel_orientation = wheel_orientations_init[i,:]\n",
    "    rotation_axis = dcm_init2βaxis * wheel_orientation\n",
    "    new_wheel_orientation = axis_angle_rotation(wheel_orientation, rotation_axis, β)\n",
    "    wheel_orientations[i,:] = new_wheel_orientation\n",
    "end"
   ]
  },
  {
   "cell_type": "code",
   "execution_count": 74,
   "id": "14d82b7a-1ea7-42b9-9dd9-c72b85fb23ad",
   "metadata": {},
   "outputs": [
    {
     "data": {
      "text/plain": [
       "4×3 Matrix{Float64}:\n",
       "  0.5   0.0  0.866025\n",
       "  0.0   0.5  0.866025\n",
       " -0.5   0.0  0.866025\n",
       "  0.0  -0.5  0.866025"
      ]
     },
     "execution_count": 74,
     "metadata": {},
     "output_type": "execute_result"
    }
   ],
   "source": [
    "wheel_orientations"
   ]
  },
  {
   "cell_type": "code",
   "execution_count": null,
   "id": "6a3a22fa-3a0b-4008-950f-3954118ce0dc",
   "metadata": {},
   "outputs": [],
   "source": []
  }
 ],
 "metadata": {
  "kernelspec": {
   "display_name": "Julia 1.8.5",
   "language": "julia",
   "name": "julia-1.8"
  },
  "language_info": {
   "file_extension": ".jl",
   "mimetype": "application/julia",
   "name": "julia",
   "version": "1.8.5"
  }
 },
 "nbformat": 4,
 "nbformat_minor": 5
}
